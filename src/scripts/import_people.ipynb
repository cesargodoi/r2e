{
 "cells": [
  {
   "cell_type": "markdown",
   "metadata": {},
   "source": [
    "## Cleaning the Excel file"
   ]
  },
  {
   "cell_type": "code",
   "execution_count": 1,
   "metadata": {},
   "outputs": [
    {
     "name": "stderr",
     "output_type": "stream",
     "text": [
      "/tmp/ipykernel_266329/29172583.py:2: DeprecationWarning: \n",
      "Pyarrow will become a required dependency of pandas in the next major release of pandas (pandas 3.0),\n",
      "(to allow more performant data types, such as the Arrow string type, and better interoperability with other libraries)\n",
      "but was not found to be installed on your system.\n",
      "If this would cause problems for you,\n",
      "please provide us feedback at https://github.com/pandas-dev/pandas/issues/54466\n",
      "        \n",
      "  import pandas as pd\n"
     ]
    }
   ],
   "source": [
    "import re\n",
    "import pandas as pd\n",
    "from datetime import date\n",
    "\n",
    "from r2e.commom import phone_format\n",
    "from scripts.utils import COLUMNS_INDEXES, COLUMNS, CENTERS_ID, ASPECTS\n",
    "\n",
    "file_name = \"Brasil-Cesar-2023.xlsx\"\n",
    "\n",
    "df = pd.read_excel(file_name, header=3)"
   ]
  },
  {
   "cell_type": "code",
   "execution_count": 2,
   "metadata": {},
   "outputs": [],
   "source": [
    "df = df.iloc[:, COLUMNS_INDEXES]\n",
    "df.rename(columns={df.columns[i]: col_name for i, col_name in COLUMNS.items()}, inplace=True)"
   ]
  },
  {
   "cell_type": "code",
   "execution_count": 3,
   "metadata": {},
   "outputs": [],
   "source": [
    "def get_center_id(center):\n",
    "    return CENTERS_ID.get(center, None)\n",
    "\n",
    "def update_name(name):\n",
    "    if len(name) > 50:\n",
    "        name = f\"{name[:47]}...\"\n",
    "    return name\n",
    "\n",
    "def get_aspect(row):\n",
    "    if pd.notnull(row['p21']) and row['p21'] == \"P\":\n",
    "        return ASPECTS.get(row['p21'], None)\n",
    "    return ASPECTS.get(row['aspect'], None)\n",
    "\n",
    "def cpf_format(num):\n",
    "    cpf = str(num)\n",
    "    cpf = \"\".join(re.findall(r\"\\d\", num))\n",
    "    return f\"{cpf[:3]}.{cpf[3:6]}.{cpf[6:9]}-{cpf[9:]}\"\n",
    "\n",
    "def phone_pre_format(num):\n",
    "    if len(num) > 20:\n",
    "        num = f\"{num[:20]}\"\n",
    "    return phone_format(num)\n",
    "\n",
    "def create_id_card(row):\n",
    "    cpf = row['cpf']\n",
    "    rg = row['rg']\n",
    "    ssp = row['ssp']\n",
    "    \n",
    "    if isinstance(cpf, str) and pd.notnull(cpf):\n",
    "        return cpf_format(cpf)\n",
    "    else:\n",
    "        if isinstance(rg, str) and isinstance(ssp, str):\n",
    "            rg = re.sub('[^0-9]', '', rg)\n",
    "            return f\"{rg} | {ssp.upper()}\"\n",
    "        else:\n",
    "            rg = re.sub('[^0-9]', '', str(rg))\n",
    "            return rg\n",
    "        \n",
    "def update_sos_contact(row):\n",
    "    sos_contact = str(row['sos_contact']) if pd.notnull(row['sos_contact']) else \"\"\n",
    "    sos_type = str(row['sos_type']).lower() if pd.notnull(row['sos_type']) else \"\"\n",
    "\n",
    "    if len(sos_contact) > 33:\n",
    "        sos_contact = f\"{sos_contact[:30]}...\"\n",
    "    \n",
    "    if len(sos_type) > 14:\n",
    "        sos_type = f\"{sos_type[:11]}...\"\n",
    "\n",
    "    new_contact = sos_contact\n",
    "    if sos_type:\n",
    "        new_contact = f\"{sos_contact} | {sos_type}\"\n",
    "    \n",
    "    return new_contact"
   ]
  },
  {
   "cell_type": "code",
   "execution_count": 4,
   "metadata": {},
   "outputs": [],
   "source": [
    "# inserting \"center_id\" and remove \"center_ref\"\n",
    "df['center_id'] = df[\"center_ref\"].apply(get_center_id)\n",
    "df.drop(\"center_ref\", axis=1, inplace=True)\n",
    "\n",
    "# name\n",
    "df['name'] = df['name'].astype(str)\n",
    "df['name'] = df['name'].apply(update_name)\n",
    "\n",
    "# removing NaN\n",
    "df.fillna(\n",
    "    {\n",
    "        'p21': '', \n",
    "        'city': '', \n",
    "        'state': '', \n",
    "        'birth': date(2000,1,1), \n",
    "        'gender': '', \n",
    "        'email': '', \n",
    "        'id_card': '',\n",
    "    }, \n",
    "    inplace=True\n",
    ")\n",
    "\n",
    "# birth\n",
    "df['birth'] = pd.to_datetime(df['birth'])\n",
    "df['birth'] = df['birth'].dt.date\n",
    "\n",
    "# phone\n",
    "df['phone'] = df['phone'].astype(str)\n",
    "df['phone'] = df['phone'].apply(phone_pre_format)\n",
    "\n",
    "# sos_phone\n",
    "df['sos_phone'] = df['sos_phone'].astype(str)\n",
    "df['sos_phone'] = df['sos_phone'].apply(phone_pre_format)\n",
    "\n",
    "# aspect\n",
    "df['aspect'] = df.apply(get_aspect, axis=1)\n",
    "df.drop(\"p21\", axis=1, inplace=True)\n",
    "\n",
    "# id_card\n",
    "df['id_card'] = df.apply(create_id_card, axis=1)\n",
    "df.drop(\"rg\", axis=1, inplace=True)\n",
    "df.drop(\"ssp\", axis=1, inplace=True)\n",
    "df.drop(\"cpf\", axis=1, inplace=True)\n",
    "\n",
    "# sos_contact\n",
    "df['sos_contact'] = df.apply(update_sos_contact, axis=1)\n",
    "df.drop(\"sos_type\", axis=1, inplace=True)"
   ]
  },
  {
   "cell_type": "code",
   "execution_count": 5,
   "metadata": {},
   "outputs": [],
   "source": [
    "people = df.to_dict(orient='records')\n",
    "\n",
    "# for person in people[40:]:\n",
    "#     print(person)"
   ]
  },
  {
   "cell_type": "markdown",
   "metadata": {},
   "source": [
    "## Putting the people dictionary into the Person model"
   ]
  },
  {
   "cell_type": "code",
   "execution_count": 6,
   "metadata": {},
   "outputs": [],
   "source": [
    "import os\n",
    "import django\n",
    "\n",
    "os.environ.setdefault('DJANGO_SETTINGS_MODULE', 'r2e.settings')\n",
    "django.setup()\n",
    "\n",
    "from apps.person.models import Person\n",
    "\n",
    "people_with_problems = []\n",
    "for person in people:\n",
    "    if person['id_card'] == '':\n",
    "        person['id_card'] = None\n",
    "    \n",
    "    try:\n",
    "        Person.objects.create(**person)\n",
    "    except Exception as error:\n",
    "        person['error'] = str(error)\n",
    "        people_with_problems.append(person)"
   ]
  },
  {
   "cell_type": "code",
   "execution_count": 7,
   "metadata": {},
   "outputs": [
    {
     "data": {
      "text/plain": [
       "12"
      ]
     },
     "execution_count": 7,
     "metadata": {},
     "output_type": "execute_result"
    }
   ],
   "source": [
    "errors = pd.DataFrame(people_with_problems)\n",
    "errors.to_csv('people_with_problems.csv', index=False, encoding=\"utf-8\")\n",
    "len(people_with_problems)"
   ]
  },
  {
   "cell_type": "code",
   "execution_count": 8,
   "metadata": {},
   "outputs": [],
   "source": [
    "# _file_name = file_name.split(\".\")\n",
    "# new_file_name = f\"{_file_name[0]}.csv\"\n",
    "# df.to_csv(new_file_name, index=False, encoding=\"utf-8\")"
   ]
  }
 ],
 "metadata": {
  "kernelspec": {
   "display_name": ".venv",
   "language": "python",
   "name": "python3"
  },
  "language_info": {
   "codemirror_mode": {
    "name": "ipython",
    "version": 3
   },
   "file_extension": ".py",
   "mimetype": "text/x-python",
   "name": "python",
   "nbconvert_exporter": "python",
   "pygments_lexer": "ipython3",
   "version": "3.11.7"
  }
 },
 "nbformat": 4,
 "nbformat_minor": 2
}
