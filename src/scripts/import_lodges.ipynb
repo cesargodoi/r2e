{
 "cells": [
  {
   "cell_type": "markdown",
   "metadata": {},
   "source": [
    "## Cleaning the Excel file"
   ]
  },
  {
   "cell_type": "code",
   "execution_count": 1,
   "metadata": {},
   "outputs": [
    {
     "name": "stderr",
     "output_type": "stream",
     "text": [
      "/tmp/ipykernel_38222/2680388441.py:2: DeprecationWarning: \n",
      "Pyarrow will become a required dependency of pandas in the next major release of pandas (pandas 3.0),\n",
      "(to allow more performant data types, such as the Arrow string type, and better interoperability with other libraries)\n",
      "but was not found to be installed on your system.\n",
      "If this would cause problems for you,\n",
      "please provide us feedback at https://github.com/pandas-dev/pandas/issues/54466\n",
      "        \n",
      "  import pandas as pd\n"
     ]
    }
   ],
   "source": [
    "import re\n",
    "import pandas as pd\n",
    "from datetime import date\n",
    "\n",
    "file_name = \"CCPA_Alojamentos.xlsx\"\n",
    "\n",
    "df = pd.read_excel(file_name)"
   ]
  },
  {
   "cell_type": "code",
   "execution_count": 2,
   "metadata": {},
   "outputs": [],
   "source": [
    "df.drop(\"building\", axis=1, inplace=True)\n",
    "bedrooms = df.to_dict(orient='records')"
   ]
  },
  {
   "cell_type": "markdown",
   "metadata": {},
   "source": [
    "## Putting the lodges dictionary into the bedroom model"
   ]
  },
  {
   "cell_type": "code",
   "execution_count": 3,
   "metadata": {},
   "outputs": [],
   "source": [
    "import os\n",
    "import django\n",
    "\n",
    "os.environ.setdefault('DJANGO_SETTINGS_MODULE', 'r2e.settings')\n",
    "django.setup()\n",
    "\n",
    "from apps.center.models import Bedroom\n",
    "\n",
    "bedrooms_with_problems = []\n",
    "for bedroom in bedrooms:\n",
    "   \n",
    "    try:\n",
    "        Bedroom.objects.create(**bedroom)\n",
    "    except Exception as error:\n",
    "        bedroom['error'] = str(error)\n",
    "        bedrooms_with_problems.append(bedroom)"
   ]
  },
  {
   "cell_type": "code",
   "execution_count": 4,
   "metadata": {},
   "outputs": [],
   "source": [
    "if len(bedrooms_with_problems) > 0:\n",
    "    errors = pd.DataFrame(bedrooms_with_problems)\n",
    "    errors.to_csv('bedrooms_with_problems.csv', index=False, encoding=\"utf-8\")\n",
    "    print(len(bedrooms_with_problems))\n",
    "else:\n",
    "    print(\"Everything is ok!\")"
   ]
  }
 ],
 "metadata": {
  "kernelspec": {
   "display_name": ".venv",
   "language": "python",
   "name": "python3"
  },
  "language_info": {
   "codemirror_mode": {
    "name": "ipython",
    "version": 3
   },
   "file_extension": ".py",
   "mimetype": "text/x-python",
   "name": "python",
   "nbconvert_exporter": "python",
   "pygments_lexer": "ipython3",
   "version": "3.11.7"
  }
 },
 "nbformat": 4,
 "nbformat_minor": 2
}
